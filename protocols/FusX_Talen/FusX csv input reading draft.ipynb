{
 "cells": [
  {
   "cell_type": "code",
   "execution_count": 7,
   "metadata": {},
   "outputs": [
    {
     "name": "stdout",
     "output_type": "stream",
     "text": [
      "['AAA', 'AAC', 'AAG', 'AAT', 'ACA', 'ACC', 'ACG', 'ACT', 'AGA', 'AGC', 'AGG', 'AGT', 'ATA', 'ATC', 'ATG', 'ATT', 'CAA', 'CAC', 'CAG', 'CAT', 'CCA', 'CCC', 'CCG', 'CCT', 'CGA', 'CGC', 'CGG', 'CGT', 'CTA', 'CTC', 'CTG', 'CTT', 'GAA', 'GAC', 'GAG', 'GAT', 'GCA', 'GCC', 'GCG', 'GCT', 'GGA', 'GGC', 'GGG', 'GGT', 'GTA', 'GTC', 'GTG', 'GTT', 'TAA', 'TAC', 'TAG', 'TAT', 'TCA', 'TCC', 'TCG', 'TCT', 'TGA', 'TGC', 'TGG', 'TGT', 'TTA', 'TTC', 'TTG', 'TTT', 'AA', 'AC', 'AG', 'AT', 'CA', 'CC', 'CG', 'CT', 'GA', 'GC', 'GG', 'GT', 'TA', 'TC', 'TG', 'TT', 'pLR: A', 'pLR: C', 'pLR: G', 'pLR: T', 'pLR: A', 'pLR: C', 'pLR: G', 'pLR: T', 'pT3TS', 'pC', 'pKT3', 'pT3TS', 'pC', 'pKT3', 'x', 'x']\n"
     ]
    }
   ],
   "source": [
    "# takes file path as input and returns list of the plate contents in proper order\n",
    "# input intended to be same format as in the FusX plate map Excel sheet\n",
    "\n",
    "def generate_content_list(filepath):\n",
    "    with open(filepath) as my_file:\n",
    "\n",
    "        # save well contents from CSV file into a list\n",
    "        plate_contents = []\n",
    "    \n",
    "        # store lines temporarily to reverse order of lines\n",
    "        temp_lines = []\n",
    "\n",
    "        # loop through each line (row of plate)\n",
    "        for row in my_file.read().splitlines():\n",
    "            temp_lines.append(row)\n",
    "\n",
    "        # go through lines (rows of plate) in reverse of input file\n",
    "        for row in reversed(temp_lines):\n",
    "            # loop through each comma-separated value (each row's contents)\n",
    "            for well in row.split(','):\n",
    "                plate_contents.append(well.strip())\n",
    "    \n",
    "    return plate_contents;\n",
    "\n",
    "# open file with absolute path (will be different depending on operating system)\n",
    "# file paths on Windows look more like 'C:\\\\path\\\\to\\\\your\\\\csv_file.csv'\n",
    "# on Mac '/path/to/your/csv_file.csv'\n",
    "\n",
    "path = 'C:\\\\Users\\\\calel_000\\\\Libraries\\\\Documents\\\\Opentrons\\\\Protocols\\\\FusX Mayo Clinic\\\\copied from excel csv test.csv'\n",
    "\n",
    "print(generate_content_list(path))"
   ]
  },
  {
   "cell_type": "code",
   "execution_count": null,
   "metadata": {
    "collapsed": true
   },
   "outputs": [],
   "source": []
  }
 ],
 "metadata": {
  "kernelspec": {
   "display_name": "Python 3",
   "language": "python",
   "name": "python3"
  },
  "language_info": {
   "codemirror_mode": {
    "name": "ipython",
    "version": 3
   },
   "file_extension": ".py",
   "mimetype": "text/x-python",
   "name": "python",
   "nbconvert_exporter": "python",
   "pygments_lexer": "ipython3",
   "version": "3.6.3"
  }
 },
 "nbformat": 4,
 "nbformat_minor": 2
}
