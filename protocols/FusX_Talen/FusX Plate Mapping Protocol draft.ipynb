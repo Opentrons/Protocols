{
 "cells": [
  {
   "cell_type": "code",
   "execution_count": 17,
   "metadata": {},
   "outputs": [
    {
     "name": "stdout",
     "output_type": "stream",
     "text": [
      "[<Deck><Slot B1><Container 96-PCR-flat><Well A1>, <Deck><Slot C1><Container 96-PCR-flat><Well B1>, <Deck><Slot D1><Container 96-PCR-flat><Well C1>, <Deck><Slot B2><Container 96-PCR-flat><Well D1>, <Deck><Slot C2><Container 96-PCR-flat><Well E1>]\n",
      "\n",
      "[<Deck><Slot B1><Container 96-PCR-flat><Well A1>, <Deck><Slot C1><Container 96-PCR-flat><Well B1>, <Deck><Slot D1><Container 96-PCR-flat><Well C1>, <Deck><Slot B2><Container 96-PCR-flat><Well D1>, <Deck><Slot C2><Container 96-PCR-flat><Well E1>, <Deck><Slot C2><Container 96-PCR-flat><Well H10>]\n"
     ]
    }
   ],
   "source": [
    "from opentrons import robot, containers, instruments\n",
    "\n",
    "robot.reset()\n",
    "\n",
    "#sample TALEN strings for function, can eventually be inputted other ways\n",
    "talen1 = 'AAAAACAAGAATACA'  # should be wells plate B1 well A1, pC1 wB1, pD1 wC1, pB2 wD1, pC2 wE1 (for testing)\n",
    "talen2 = 'AAAAACAAGAATACATT'  # should be wells plate B1 well A1, pC1 wB1, pD1 wC1, pB2 wD1, pC2 wE1, pC2 wH10\n",
    "\n",
    "# the contents of each well on the plate (triple, duple, primer)\n",
    "# can easily be populated from a csv, order should match up to well number order below \n",
    "# (following API order, starting at well A1, then B1, C1.....A2, B2, C2.... etc along rows)\n",
    "\n",
    "plate_contents = ['AAA', 'AAC', 'AAG', 'AAT', 'ACA', 'ACC', 'ACG', 'ACT',  # A1 to H1\n",
    "                  'AGA', 'AGC', 'AGG', 'AGT', 'ATA', 'ATC', 'ATG', 'ATT',  # A2 to H2\n",
    "                  'CAA', 'CAC', 'CAG', 'CAT', 'CCA', 'CCC', 'CCG', 'CCT',\n",
    "                  'CGA', 'CGC', 'CGG', 'CGT', 'CTA', 'CTC', 'CTG', 'CTT',\n",
    "                  'GAA', 'GAC', 'GAG', 'GAT', 'GCA', 'GCC', 'GCG', 'GCT',\n",
    "                  'GGA', 'GGC', 'GGG', 'GGT', 'GTA', 'GTC', 'GTG', 'GTT',\n",
    "                  'TAA', 'TAC', 'TAG', 'TAT', 'TCA', 'TCC', 'TCG', 'TCT',\n",
    "                  'TGA', 'TGC', 'TGG', 'TGT', 'TTA', 'TTC', 'TTG', 'TTT',\n",
    "                  'AA', 'AC', 'AG', 'AT', 'CA', 'CC', 'CG', 'CT',\n",
    "                  'GA', 'GC', 'GG', 'GT', 'TA', 'TC', 'TG', 'TT',\n",
    "                  'pLR: A', 'pLR: C', 'pLR: G', 'pLR: T', 'pLR: A', 'pLR: C', 'pLR: G', 'pLR: T',\n",
    "                  'pT3TS', 'pC', 'pKT3', 'pT3TS', 'pC', 'pKT3', 'x', 'x',  # A12 to H12\n",
    "]\n",
    "\n",
    "# wells of 96 well plate numbered 1 to 96, not really subject to change\n",
    "\n",
    "plate_locations = [ 0,  1,  2,  3,  4,  5,  6,  7,   # A1 to H1\n",
    "                    8,  9,  10, 11, 12, 13, 14, 15,  # A2 to H2 \n",
    "                    16, 17, 18, 19, 20, 21, 22, 23,\n",
    "                    24, 25, 26, 27, 28, 29, 30, 31, \n",
    "                    32, 33, 34, 35, 36, 37, 38, 39, \n",
    "                    40, 41, 42, 43, 44, 45, 46, 47,\n",
    "                    48, 49, 50, 51, 52, 53, 54, 55, \n",
    "                    56, 57, 58, 59, 60, 61, 62, 63, \n",
    "                    64, 65, 66, 67, 68, 69, 70, 71,\n",
    "                    72, 73, 74, 75, 76, 77, 78, 79, \n",
    "                    80, 81, 82, 83, 84, 85, 86, 87, \n",
    "                    88, 89, 90, 91, 92, 93, 94, 95   # A12 to H12\n",
    "]\n",
    "\n",
    "# creates dictionary to map the triple or duple or primer to the location on the plate\n",
    "plate_dict = dict(zip(plate_contents, plate_locations))\n",
    "\n",
    "#plates with the talen pieces\n",
    "plate1 = containers.load('96-PCR-flat', 'B1')\n",
    "plate2 = containers.load('96-PCR-flat', 'C1')\n",
    "plate3 = containers.load('96-PCR-flat', 'D1')\n",
    "plate4 = containers.load('96-PCR-flat', 'B2')\n",
    "plate5 = containers.load('96-PCR-flat', 'C2')\n",
    "#destination plate\n",
    "destination = containers.load('96-PCR-flat', 'D2')\n",
    "\n",
    "source_plates = [plate1, plate2, plate3, plate4, plate5]\n",
    "\n",
    "def generate_well_list(TALENstring):\n",
    "    \n",
    "    # list to hold wells for the entered nucleotides\n",
    "    wells = []\n",
    "    \n",
    "    #first 5 nucleotide triplet locations\n",
    "    for triple in range(0, 5):\n",
    "        plate = source_plates[triple]\n",
    "        nucleotides = TALENstring[(3*triple):(3*triple + 3)]\n",
    "        wells.append(plate.wells(plate_dict[nucleotides]))\n",
    "        \n",
    "    # optional last 2 nucleotides' location\n",
    "    if len(TALENstring) == 17:\n",
    "        nucleotides = TALENstring[15:17]\n",
    "        wells.append(plate5.wells(plate_dict[nucleotides]))\n",
    "        \n",
    "    return wells;\n",
    "\n",
    "print(generate_well_list(talen1))\n",
    "print()\n",
    "print(generate_well_list(talen2))"
   ]
  },
  {
   "cell_type": "code",
   "execution_count": null,
   "metadata": {
    "collapsed": true
   },
   "outputs": [],
   "source": []
  }
 ],
 "metadata": {
  "kernelspec": {
   "display_name": "Python 3",
   "language": "python",
   "name": "python3"
  },
  "language_info": {
   "codemirror_mode": {
    "name": "ipython",
    "version": 3
   },
   "file_extension": ".py",
   "mimetype": "text/x-python",
   "name": "python",
   "nbconvert_exporter": "python",
   "pygments_lexer": "ipython3",
   "version": "3.6.3"
  }
 },
 "nbformat": 4,
 "nbformat_minor": 2
}
