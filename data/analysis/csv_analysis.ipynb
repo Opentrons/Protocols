{
 "cells": [
  {
   "cell_type": "code",
   "execution_count": 550,
   "id": "0dd79a7f",
   "metadata": {},
   "outputs": [],
   "source": [
    "# imports\n",
    "import csv\n",
    "import json\n",
    "import os\n",
    "import pandas as pd\n",
    "import scipy.stats as stats\n",
    "import numpy as np"
   ]
  },
  {
   "cell_type": "code",
   "execution_count": 551,
   "id": "451016a2",
   "metadata": {},
   "outputs": [],
   "source": [
    "# setting local path— change to reflect your locoal Protocols repo clone\n",
    "protocols_path = '/Users/nickdiehl/protocols/protocols'\n",
    "\n",
    "# sessions report from Google Analytics\n",
    "marketing_csv_path = '/Users/nickdiehl/protocols/data/csv/sessions_by_page.csv'\n"
   ]
  },
  {
   "cell_type": "code",
   "execution_count": 552,
   "id": "816d5fb9",
   "metadata": {},
   "outputs": [],
   "source": [
    "# filling dictionary of protocol IDs with counts of textFile type fields\n",
    "\n",
    "protocol_data = {}\n",
    "\n",
    "for folder in os.listdir(protocols_path):\n",
    "    folder_path = f'{protocols_path}/{folder}'\n",
    "    if os.path.isdir(folder_path):\n",
    "        protocol_data[folder] = {'count': 0}\n",
    "        for file in os.listdir(folder_path):\n",
    "            if file == 'fields.json':\n",
    "                fields_filepath = f'{folder_path}/{file}'\n",
    "                with open(fields_filepath) as fields_file:\n",
    "                    fields_data = json.load(fields_file)\n",
    "                    for field in fields_data:\n",
    "                        if field['type'] == 'textFile':\n",
    "                            protocol_data[folder]['count'] += 1"
   ]
  },
  {
   "cell_type": "code",
   "execution_count": 553,
   "id": "9e1afbbb",
   "metadata": {},
   "outputs": [
    {
     "name": "stdout",
     "output_type": "stream",
     "text": [
      "                id  csv-count\n",
      "0           58d57d          0\n",
      "1      2aee74-48-2          0\n",
      "2           1440ad          0\n",
      "3           74b303          1\n",
      "4    04eeb1-part-6          0\n",
      "..             ...        ...\n",
      "653    9778eb_spri          0\n",
      "654         3c9aec          0\n",
      "655         355b30          0\n",
      "656         04f4e7          0\n",
      "657  43d313-part-3          0\n",
      "\n",
      "[658 rows x 2 columns]\n",
      "            id\n",
      "csv-count     \n",
      "0          570\n",
      "1           79\n",
      "2            6\n",
      "3            1\n",
      "4            2\n"
     ]
    }
   ],
   "source": [
    "# create dataframe containing protocol IDs and csv-count\n",
    "\n",
    "df_dict = {'id': protocol_data.keys(), 'csv-count': [val['count'] for val in protocol_data.values()]}\n",
    "df = pd.DataFrame(df_dict)\n",
    "print(df)\n",
    "print(df.groupby('csv-count').count())"
   ]
  },
  {
   "cell_type": "code",
   "execution_count": 554,
   "id": "4b5be5cd",
   "metadata": {},
   "outputs": [
    {
     "data": {
      "image/png": "[encoded data removed]",
      "text/plain": [
       "<Figure size 432x288 with 1 Axes>"
      ]
     },
     "metadata": {
      "needs_background": "light"
     },
     "output_type": "display_data"
    }
   ],
   "source": [
    "hist = df.hist(column='csv-count', bins=[0, 0.5, 1.5, 2.5, 3.5, 4.5])"
   ]
  },
  {
   "cell_type": "code",
   "execution_count": 555,
   "id": "575f6dc0",
   "metadata": {},
   "outputs": [],
   "source": [
    "# filter analytics info to look for pages of the form: \"opentrons\"\n",
    "\n",
    "marketing_data = pd.read_csv('https://raw.githubusercontent.com/Opentrons/Protocols/data-analytics/data/csv/sessions_by_page.csv').to_csv(index=False).splitlines()\n",
    "\n",
    "marketing_ids = []\n",
    "marketing_sessions = []\n",
    "reader = csv.reader(marketing_data)\n",
    "for line in reader:\n",
    "    split_line = line[0].split('/protocol')\n",
    "    if len(split_line) > 1:\n",
    "        id = split_line[1].split('/')[-1]\n",
    "        sessions = int(line[1].replace(',', ''))\n",
    "        marketing_ids.append(id)\n",
    "        marketing_sessions.append(sessions)\n",
    "\n",
    "df_marketing = pd.DataFrame({'id': marketing_ids, 'sessions': marketing_sessions})"
   ]
  },
  {
   "cell_type": "code",
   "execution_count": 556,
   "id": "69335a30",
   "metadata": {},
   "outputs": [
    {
     "name": "stdout",
     "output_type": "stream",
     "text": [
      "                                                     id  sessions\n",
      "0                      customizable_serial_dilution_ot2      4599\n",
      "1         nucleic_acid_purification_with_magnetic_beads      2818\n",
      "2                                         cherrypicking      2790\n",
      "3                    omega_biotek_magbind_totalpure_NGS      1528\n",
      "4                                         normalization      1521\n",
      "...                                                 ...       ...\n",
      "1694                              swift-fully-automated         1\n",
      "1695  Basic Pipetting+&cd=2&hl=ru&ct=clnk&gl=it&clie...         1\n",
      "1696       &cd=1&hl=en&ct=clnk&gl=nl&client=firefox-b-d         1\n",
      "1697             search?q=pcr &cd=2&hl=nl&ct=clnk&gl=nl         1\n",
      "1698            &usg=ALkJrhhFwLLy0tdWwT-P_cgZv3vekomMEQ         1\n",
      "\n",
      "[1699 rows x 2 columns]\n"
     ]
    }
   ],
   "source": [
    "# contains PL search hits as well\n",
    "\n",
    "print(df_marketing)"
   ]
  },
  {
   "cell_type": "code",
   "execution_count": 557,
   "id": "7d4a0cc1",
   "metadata": {},
   "outputs": [
    {
     "data": {
      "text/html": [
       "<div>\n",
       "<style scoped>\n",
       "    .dataframe tbody tr th:only-of-type {\n",
       "        vertical-align: middle;\n",
       "    }\n",
       "\n",
       "    .dataframe tbody tr th {\n",
       "        vertical-align: top;\n",
       "    }\n",
       "\n",
       "    .dataframe thead th {\n",
       "        text-align: right;\n",
       "    }\n",
       "</style>\n",
       "<table border=\"1\" class=\"dataframe\">\n",
       "  <thead>\n",
       "    <tr style=\"text-align: right;\">\n",
       "      <th></th>\n",
       "      <th>id</th>\n",
       "      <th>csv-count</th>\n",
       "      <th>sessions</th>\n",
       "    </tr>\n",
       "  </thead>\n",
       "  <tbody>\n",
       "    <tr>\n",
       "      <th>0</th>\n",
       "      <td>58d57d</td>\n",
       "      <td>0</td>\n",
       "      <td>19</td>\n",
       "    </tr>\n",
       "    <tr>\n",
       "      <th>1</th>\n",
       "      <td>2aee74-48-2</td>\n",
       "      <td>0</td>\n",
       "      <td>1</td>\n",
       "    </tr>\n",
       "    <tr>\n",
       "      <th>2</th>\n",
       "      <td>1440ad</td>\n",
       "      <td>0</td>\n",
       "      <td>57</td>\n",
       "    </tr>\n",
       "    <tr>\n",
       "      <th>3</th>\n",
       "      <td>74b303</td>\n",
       "      <td>1</td>\n",
       "      <td>57</td>\n",
       "    </tr>\n",
       "    <tr>\n",
       "      <th>4</th>\n",
       "      <td>04eeb1-part-6</td>\n",
       "      <td>0</td>\n",
       "      <td>5</td>\n",
       "    </tr>\n",
       "    <tr>\n",
       "      <th>...</th>\n",
       "      <td>...</td>\n",
       "      <td>...</td>\n",
       "      <td>...</td>\n",
       "    </tr>\n",
       "    <tr>\n",
       "      <th>657</th>\n",
       "      <td>9778eb_spri</td>\n",
       "      <td>0</td>\n",
       "      <td>2</td>\n",
       "    </tr>\n",
       "    <tr>\n",
       "      <th>658</th>\n",
       "      <td>3c9aec</td>\n",
       "      <td>0</td>\n",
       "      <td>23</td>\n",
       "    </tr>\n",
       "    <tr>\n",
       "      <th>659</th>\n",
       "      <td>355b30</td>\n",
       "      <td>0</td>\n",
       "      <td>60</td>\n",
       "    </tr>\n",
       "    <tr>\n",
       "      <th>660</th>\n",
       "      <td>04f4e7</td>\n",
       "      <td>0</td>\n",
       "      <td>10</td>\n",
       "    </tr>\n",
       "    <tr>\n",
       "      <th>661</th>\n",
       "      <td>43d313-part-3</td>\n",
       "      <td>0</td>\n",
       "      <td>2</td>\n",
       "    </tr>\n",
       "  </tbody>\n",
       "</table>\n",
       "<p>662 rows × 3 columns</p>\n",
       "</div>"
      ],
      "text/plain": [
       "                id  csv-count  sessions\n",
       "0           58d57d          0        19\n",
       "1      2aee74-48-2          0         1\n",
       "2           1440ad          0        57\n",
       "3           74b303          1        57\n",
       "4    04eeb1-part-6          0         5\n",
       "..             ...        ...       ...\n",
       "657    9778eb_spri          0         2\n",
       "658         3c9aec          0        23\n",
       "659         355b30          0        60\n",
       "660         04f4e7          0        10\n",
       "661  43d313-part-3          0         2\n",
       "\n",
       "[662 rows x 3 columns]"
      ]
     },
     "execution_count": 557,
     "metadata": {},
     "output_type": "execute_result"
    }
   ],
   "source": [
    "# merge Protocols Repo data w/ Protocol Library Analytics data on protocol ID \n",
    "\n",
    "df_total = pd.merge(df, df_marketing, on='id', how='inner')\n",
    "df_total"
   ]
  },
  {
   "cell_type": "code",
   "execution_count": 558,
   "id": "b1ab15c7",
   "metadata": {},
   "outputs": [
    {
     "data": {
      "text/html": [
       "<div>\n",
       "<style scoped>\n",
       "    .dataframe tbody tr th:only-of-type {\n",
       "        vertical-align: middle;\n",
       "    }\n",
       "\n",
       "    .dataframe tbody tr th {\n",
       "        vertical-align: top;\n",
       "    }\n",
       "\n",
       "    .dataframe thead th {\n",
       "        text-align: right;\n",
       "    }\n",
       "</style>\n",
       "<table border=\"1\" class=\"dataframe\">\n",
       "  <thead>\n",
       "    <tr style=\"text-align: right;\">\n",
       "      <th></th>\n",
       "      <th>id</th>\n",
       "      <th>csv-count</th>\n",
       "      <th>sessions</th>\n",
       "      <th>has-csv</th>\n",
       "    </tr>\n",
       "  </thead>\n",
       "  <tbody>\n",
       "    <tr>\n",
       "      <th>0</th>\n",
       "      <td>58d57d</td>\n",
       "      <td>0</td>\n",
       "      <td>19</td>\n",
       "      <td>False</td>\n",
       "    </tr>\n",
       "    <tr>\n",
       "      <th>1</th>\n",
       "      <td>2aee74-48-2</td>\n",
       "      <td>0</td>\n",
       "      <td>1</td>\n",
       "      <td>False</td>\n",
       "    </tr>\n",
       "    <tr>\n",
       "      <th>2</th>\n",
       "      <td>1440ad</td>\n",
       "      <td>0</td>\n",
       "      <td>57</td>\n",
       "      <td>False</td>\n",
       "    </tr>\n",
       "    <tr>\n",
       "      <th>3</th>\n",
       "      <td>74b303</td>\n",
       "      <td>1</td>\n",
       "      <td>57</td>\n",
       "      <td>True</td>\n",
       "    </tr>\n",
       "    <tr>\n",
       "      <th>4</th>\n",
       "      <td>04eeb1-part-6</td>\n",
       "      <td>0</td>\n",
       "      <td>5</td>\n",
       "      <td>False</td>\n",
       "    </tr>\n",
       "    <tr>\n",
       "      <th>...</th>\n",
       "      <td>...</td>\n",
       "      <td>...</td>\n",
       "      <td>...</td>\n",
       "      <td>...</td>\n",
       "    </tr>\n",
       "    <tr>\n",
       "      <th>657</th>\n",
       "      <td>9778eb_spri</td>\n",
       "      <td>0</td>\n",
       "      <td>2</td>\n",
       "      <td>False</td>\n",
       "    </tr>\n",
       "    <tr>\n",
       "      <th>658</th>\n",
       "      <td>3c9aec</td>\n",
       "      <td>0</td>\n",
       "      <td>23</td>\n",
       "      <td>False</td>\n",
       "    </tr>\n",
       "    <tr>\n",
       "      <th>659</th>\n",
       "      <td>355b30</td>\n",
       "      <td>0</td>\n",
       "      <td>60</td>\n",
       "      <td>False</td>\n",
       "    </tr>\n",
       "    <tr>\n",
       "      <th>660</th>\n",
       "      <td>04f4e7</td>\n",
       "      <td>0</td>\n",
       "      <td>10</td>\n",
       "      <td>False</td>\n",
       "    </tr>\n",
       "    <tr>\n",
       "      <th>661</th>\n",
       "      <td>43d313-part-3</td>\n",
       "      <td>0</td>\n",
       "      <td>2</td>\n",
       "      <td>False</td>\n",
       "    </tr>\n",
       "  </tbody>\n",
       "</table>\n",
       "<p>662 rows × 4 columns</p>\n",
       "</div>"
      ],
      "text/plain": [
       "                id  csv-count  sessions  has-csv\n",
       "0           58d57d          0        19    False\n",
       "1      2aee74-48-2          0         1    False\n",
       "2           1440ad          0        57    False\n",
       "3           74b303          1        57     True\n",
       "4    04eeb1-part-6          0         5    False\n",
       "..             ...        ...       ...      ...\n",
       "657    9778eb_spri          0         2    False\n",
       "658         3c9aec          0        23    False\n",
       "659         355b30          0        60    False\n",
       "660         04f4e7          0        10    False\n",
       "661  43d313-part-3          0         2    False\n",
       "\n",
       "[662 rows x 4 columns]"
      ]
     },
     "execution_count": 558,
     "metadata": {},
     "output_type": "execute_result"
    }
   ],
   "source": [
    "# create Boolean series representing whether protocol >= 1 textFile input field\n",
    "# drop NaN values (shouldn't be any)\n",
    "\n",
    "df_total['has-csv'] = df_total['csv-count'] > 0\n",
    "df_total.dropna(inplace=True)\n",
    "df_total"
   ]
  },
  {
   "cell_type": "code",
   "execution_count": 559,
   "id": "20411d9f",
   "metadata": {},
   "outputs": [
    {
     "name": "stdout",
     "output_type": "stream",
     "text": [
      "variance ratio: 1.9806581289900647\n"
     ]
    }
   ],
   "source": [
    "# analysis to determine significance of PL sessions created for CSV protocols vs non-CSV protocols\n",
    "test_group_csv_true = df_total[df_total['has-csv']]['sessions']\n",
    "test_group_csv_false = df_total[df_total['has-csv']==False]['sessions']\n",
    "\n",
    "# determine whether or not we have populations of equal variance (ratio < 4)\n",
    "variance_ratio = max([np.var(test_group_csv_true), np.var(test_group_csv_false)])/min([np.var(test_group_csv_true), np.var(test_group_csv_false)])\n",
    "print(f'variance ratio: {variance_ratio}')"
   ]
  },
  {
   "cell_type": "code",
   "execution_count": 560,
   "id": "3a9876fc",
   "metadata": {},
   "outputs": [
    {
     "name": "stdout",
     "output_type": "stream",
     "text": [
      "test statistic: -2.533114324587434\n",
      "p-value: 0.01153585063673606\n"
     ]
    }
   ],
   "source": [
    "# variance ratio = 1.98 < 4.0, so equal variances apply: Two-Sample T-Test of equal variance\n",
    "\n",
    "ttest = stats.ttest_ind(a=df_total[df_total['has-csv']==False]['sessions'], b=df_total[df_total['has-csv']]['sessions'], equal_var=True)\n",
    "print(f'test statistic: {ttest.statistic}')\n",
    "print(f'p-value: {ttest.pvalue}')"
   ]
  },
  {
   "cell_type": "code",
   "execution_count": 561,
   "id": "96d8e78a",
   "metadata": {},
   "outputs": [
    {
     "name": "stdout",
     "output_type": "stream",
     "text": [
      "<class 'pandas.core.frame.DataFrame'>\n",
      "Int64Index: 571 entries, 0 to 661\n",
      "Data columns (total 4 columns):\n",
      " #   Column     Non-Null Count  Dtype \n",
      "---  ------     --------------  ----- \n",
      " 0   id         571 non-null    object\n",
      " 1   csv-count  571 non-null    int64 \n",
      " 2   sessions   571 non-null    int64 \n",
      " 3   has-csv    571 non-null    bool  \n",
      "dtypes: bool(1), int64(2), object(1)\n",
      "memory usage: 18.4+ KB\n"
     ]
    }
   ],
   "source": [
    "df_total[df_total['has-csv']==False].info()"
   ]
  },
  {
   "cell_type": "code",
   "execution_count": 562,
   "id": "230d69a9",
   "metadata": {},
   "outputs": [
    {
     "data": {
      "text/plain": [
       "count      91.000000\n",
       "mean      136.648352\n",
       "std       359.217711\n",
       "min         1.000000\n",
       "25%        17.000000\n",
       "50%        47.000000\n",
       "75%        91.500000\n",
       "max      2790.000000\n",
       "Name: sessions, dtype: float64"
      ]
     },
     "execution_count": 562,
     "metadata": {},
     "output_type": "execute_result"
    }
   ],
   "source": [
    "# statistics about CSV protocols\n",
    "df_total[df_total['has-csv']]['sessions'].describe()"
   ]
  },
  {
   "cell_type": "code",
   "execution_count": 563,
   "id": "8a5e6e07",
   "metadata": {},
   "outputs": [
    {
     "data": {
      "text/plain": [
       "count     571.000000\n",
       "mean       59.217163\n",
       "std       254.058755\n",
       "min         1.000000\n",
       "25%         6.000000\n",
       "50%        17.000000\n",
       "75%        41.500000\n",
       "max      4599.000000\n",
       "Name: sessions, dtype: float64"
      ]
     },
     "execution_count": 563,
     "metadata": {},
     "output_type": "execute_result"
    }
   ],
   "source": [
    "# statistics about non-CSV protocols\n",
    "df_total[~df_total['has-csv']]['sessions'].describe()"
   ]
  },
  {
   "cell_type": "code",
   "execution_count": null,
   "id": "b57bc509",
   "metadata": {},
   "outputs": [],
   "source": []
  }
 ],
 "metadata": {
  "kernelspec": {
   "display_name": "Python 3",
   "language": "python",
   "name": "python3"
  },
  "language_info": {
   "codemirror_mode": {
    "name": "ipython",
    "version": 3
   },
   "file_extension": ".py",
   "mimetype": "text/x-python",
   "name": "python",
   "nbconvert_exporter": "python",
   "pygments_lexer": "ipython3",
   "version": "3.8.8"
  }
 },
 "nbformat": 4,
 "nbformat_minor": 5
}
